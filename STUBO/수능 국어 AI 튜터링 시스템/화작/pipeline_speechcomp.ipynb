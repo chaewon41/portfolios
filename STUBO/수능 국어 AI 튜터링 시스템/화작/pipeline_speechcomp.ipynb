{
 "cells": [
  {
   "cell_type": "code",
   "execution_count": null,
   "metadata": {
    "id": "axYSaRbgJzK4"
   },
   "outputs": [],
   "source": [
    "import os\n",
    "\n",
    "if __name__ == \"__main__\":  # 이 파일이 직접 실행될 때만\n",
    "    try:\n",
    "        from google.colab import drive\n",
    "        drive.mount('/content/drive')\n",
    "    except:\n",
    "        pass"
   ]
  },
  {
   "cell_type": "code",
   "execution_count": null,
   "metadata": {
    "id": "unOG6EKiKq8U"
   },
   "outputs": [],
   "source": [
    "# 유사 문제 추천과 답변 해설을 동시에 하는 최종 모델\n",
    "import openai\n",
    "import os\n",
    "import base64\n",
    "import easyocr\n",
    "import pytesseract\n",
    "import re\n",
    "from PIL import Image\n",
    "from langchain_community.vectorstores import FAISS\n",
    "from langchain_community.embeddings import SentenceTransformerEmbeddings\n",
    "\n",
    "# GPT client 설정\n",
    "client = openai.OpenAI(api_key=\"  \")  # API 키 입력 필요"
   ]
  },
  {
   "cell_type": "code",
   "execution_count": null,
   "metadata": {
    "id": "nVKcf-2kH0N-"
   },
   "outputs": [],
   "source": [
    "# 경로 설정\n",
    "BASE_DIR = \"/content/drive/MyDrive/Colab Notebooks/TAVE 프로젝트_STUBO/수능 국어 AI 튜터링 시스템/화작\"\n",
    "DATA_DIR = os.path.join(BASE_DIR, \"data\")\n",
    "VECTOR_DB_PATH = os.path.join(BASE_DIR, \"outputs\")  # FAISS vector DB가 저장된 폴더\n",
    "\n",
    "# [5] EasyOCR Reader\n",
    "reader = easyocr.Reader(['ko', 'en'])\n",
    "\n",
    "# [6] 임베딩 모델 & 벡터 스토어 로딩\n",
    "embedding_model = SentenceTransformerEmbeddings(model_name=\"snunlp/KR-SBERT-V40K-klueNLI-augSTS\")\n",
    "vectorstore = FAISS.load_local(VECTOR_DB_PATH, embedding_model, allow_dangerous_deserialization=True)\n",
    "retriever = vectorstore.as_retriever(search_kwargs={\"k\": 3})\n",
    "\n",
    "# [7] 이미지 인코딩\n",
    "def encode_image(image_path):\n",
    "    with open(image_path, \"rb\") as image_file:\n",
    "        return base64.b64encode(image_file.read()).decode(\"utf-8\")\n",
    "\n",
    "# [8] OCR 함수\n",
    "def easyocr_text(image_path):\n",
    "    result = reader.readtext(image_path, detail=0, paragraph=True)\n",
    "    return \"\\n\".join(result)\n",
    "\n",
    "def pytesseract_text(image_path):\n",
    "    img = Image.open(image_path)\n",
    "    return pytesseract.image_to_string(img, lang=\"kor+eng\")"
   ]
  },
  {
   "cell_type": "code",
   "execution_count": null,
   "metadata": {
    "id": "ejWchETuy8rM"
   },
   "outputs": [],
   "source": [
    "def extract_problem_number(text: str) -> str:\n",
    "    match = re.match(r\"\\s*(\\d+)[\\.\\)]?\\s*문제\", text)\n",
    "    return match.group(1) if match else \"번호 없음\""
   ]
  },
  {
   "cell_type": "code",
   "execution_count": null,
   "metadata": {
    "id": "SDr2eUN0Sd_b"
   },
   "outputs": [],
   "source": [
    "def analyze_problem(context_image_path, question_image_path, top_k=2):\n",
    "    result_dict = {}\n",
    "\n",
    "    # 🔧 내부 설정\n",
    "    base_img_dir = \"/content/drive/MyDrive/Colab Notebooks/TAVE 프로젝트_STUBO/수능 국어 AI 튜터링 시스템/화작/data/output_images\"\n",
    "    page_map = {\n",
    "        \"p9\": [35, 36, 37],\n",
    "        \"p10\": [38, 39, 40, 41, 42],\n",
    "        \"p11\": [43, 44, 45],\n",
    "    }\n",
    "\n",
    "    # [1] GPT 정답/해설 생성\n",
    "    context_text = easyocr_text(context_image_path)\n",
    "    question_text = easyocr_text(question_image_path)\n",
    "\n",
    "    c_b64 = encode_image(context_image_path)\n",
    "    q_b64 = encode_image(question_image_path)\n",
    "\n",
    "    response = openai.chat.completions.create(\n",
    "        model=\"gpt-4o\",\n",
    "        messages=[\n",
    "            {\n",
    "                \"role\": \"user\",\n",
    "                \"content\": [\n",
    "                    {\"type\": \"text\", \"text\": (\n",
    "                        f\"다음은 OCR로 추출한 지문 텍스트입니다:\\n{context_text}\\n\\n\"\n",
    "                        f\"다음은 OCR로 추출한 문제와 선택지 텍스트입니다:\\n{question_text}\\n\\n\"\n",
    "                        \"위 두 이미지와 OCR 텍스트를 참고하여 문제의 정답과 해설을 알려줘. \"\n",
    "                        \"정답 번호와 해설을 분리해서 알려줘. (예: 정답: ③) \"\n",
    "                        \"모든 선지에 대한 해설을 제공해줘.\"\n",
    "                    )},\n",
    "                    {\"type\": \"image_url\", \"image_url\": {\"url\": f\"data:image/png;base64,{c_b64}\"}},\n",
    "                    {\"type\": \"image_url\", \"image_url\": {\"url\": f\"data:image/png;base64,{q_b64}\"}},\n",
    "                ]\n",
    "            }\n",
    "        ],\n",
    "        max_tokens=5000,\n",
    "    )\n",
    "\n",
    "    gpt_response = response.choices[0].message.content\n",
    "    full_text = pytesseract_text(question_image_path)\n",
    "\n",
    "    # [2] 유사 문제 추천\n",
    "    similar_docs = retriever.get_relevant_documents(full_text, k=top_k)\n",
    "    similar_problems = []\n",
    "\n",
    "    for i, doc in enumerate(similar_docs, 1):\n",
    "        meta = doc.metadata\n",
    "        year = str(meta.get(\"년도\", \"연도 없음\"))\n",
    "        month = str(meta.get(\"월\", \"월 없음\")).zfill(2)\n",
    "        question_text = doc.page_content\n",
    "\n",
    "        # 문제 번호 추출\n",
    "        match = re.match(r\"\\s*(\\d+)[\\.\\)]?\", question_text)\n",
    "        problem_number = match.group(1) if match else \"번호없음\"\n",
    "\n",
    "        # 이미지 파일명 추론\n",
    "        problem_filename = f\"{year}-{month}-화작_{problem_number}.png\"\n",
    "        passage_filename = meta.get(\"passage_img\", \"\")\n",
    "\n",
    "        # 지문 추론\n",
    "        if not passage_filename and problem_number.isdigit():\n",
    "            for page, numbers in page_map.items():\n",
    "                if int(problem_number) in numbers:\n",
    "                    passage_filename = f\"{year}-{month}-화작_{page}.png\"\n",
    "                    break\n",
    "\n",
    "        # 전체 경로 생성\n",
    "        passage_img_path = os.path.join(base_img_dir, passage_filename) if passage_filename else \"\"\n",
    "        problem_img_path = os.path.join(base_img_dir, problem_filename)\n",
    "\n",
    "        similar_problems.append({\n",
    "            \"index\": i,\n",
    "            \"year\": year,\n",
    "            \"month\": month,\n",
    "            \"answer\": meta.get(\"답\", None),\n",
    "            \"explanation\": meta.get(\"해설\", None),\n",
    "            \"content\": question_text,\n",
    "            \"problem_number\": problem_number,\n",
    "            \"passage_img_path\": passage_img_path,\n",
    "            \"problem_img_path\": problem_img_path,\n",
    "        })\n",
    "\n",
    "    return {\n",
    "        \"problem_number\": extract_problem_number(full_text),\n",
    "        \"gpt_response\": gpt_response,\n",
    "        \"similar_problems\": similar_problems,\n",
    "    }"
   ]
  }
 ],
 "metadata": {
  "colab": {
   "authorship_tag": "ABX9TyMGE2j/fZufiHG3nj0PtVuw",
   "provenance": []
  },
  "kernelspec": {
   "display_name": "Python 3",
   "name": "python3"
  },
  "language_info": {
   "name": "python"
  }
 },
 "nbformat": 4,
 "nbformat_minor": 0
}
